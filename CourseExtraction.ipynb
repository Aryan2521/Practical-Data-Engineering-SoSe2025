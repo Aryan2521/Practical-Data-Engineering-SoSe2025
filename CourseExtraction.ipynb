{
 "cells": [
  {
   "cell_type": "code",
   "execution_count": 1,
   "metadata": {},
   "outputs": [],
   "source": [
    "from bs4 import BeautifulSoup\n",
    "\n",
    "# 打开你保存好的 HTML 文件\n",
    "with open(\"/Users/rennyxu/PythonFile/CourseExtraction/tum_studienplan.html\", \"r\", encoding=\"utf-8\") as file:\n",
    "    html_content = file.read()\n",
    "\n",
    "# 用 BeautifulSoup 解析 HTML\n",
    "soup = BeautifulSoup(html_content, \"html.parser\")\n",
    "\n",
    "# 找到所有包含课程信息的 <span> 标签，具有 KnotenText 类\n",
    "course_spans = soup.find_all(\"span\", class_=\"KnotenText\")\n",
    "\n",
    "# 提取课程名称和编号\n",
    "courses = []\n",
    "for span in course_spans:\n",
    "    course_text = span.get_text(strip=True)\n",
    "    if course_text.startswith(\"[\") and \"]\" in course_text:\n",
    "        courses.append(course_text)\n",
    "\n",
    "# 打印所有课程\n",
    "for course in courses:\n",
    "    print(course)\n"
   ]
  }
 ],
 "metadata": {
  "kernelspec": {
   "display_name": "Python 3",
   "language": "python",
   "name": "python3"
  },
  "language_info": {
   "codemirror_mode": {
    "name": "ipython",
    "version": 3
   },
   "file_extension": ".py",
   "mimetype": "text/x-python",
   "name": "python",
   "nbconvert_exporter": "python",
   "pygments_lexer": "ipython3",
   "version": "3.12.7"
  }
 },
 "nbformat": 4,
 "nbformat_minor": 2
}
